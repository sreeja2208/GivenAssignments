{
  "cells": [
    {
      "cell_type": "markdown",
      "metadata": {
        "id": "view-in-github",
        "colab_type": "text"
      },
      "source": [
        "<a href=\"https://colab.research.google.com/github/sreeja2208/GivenAssignments/blob/main/FMML_Jan_Batch_Lab_10_Project.ipynb\" target=\"_parent\"><img src=\"https://colab.research.google.com/assets/colab-badge.svg\" alt=\"Open In Colab\"/></a>"
      ]
    },
    {
      "cell_type": "markdown",
      "source": [
        "# **FOUNDATIONS OF MODERN MACHINE LEARNING, IIIT Hyderabad**\n",
        "### Project for Lab Topic: Intoduction to Gradient Descent\n",
        "#### Module Coordinator: Shantanu Agrawal\n",
        "\n",
        "NOTE: YOU NEED TO WRITE CODE IN CELLS THAT SPECIFICALLY MENTION TASK-1, TASK-2, etc.\n",
        "\n",
        "WRITE ANY OBSERVATION(S), IF REQUIRED BY THE TASK, IN A SEPARATE CELL AT THE BOTTOM OF THE NOTEBOOK.  \n",
        "\n",
        "---"
      ],
      "metadata": {
        "id": "IdS6w29jbANZ"
      }
    },
    {
      "cell_type": "markdown",
      "metadata": {
        "id": "MBEAaE_RajV3"
      },
      "source": [
        "# Notebook Imports and Packages"
      ]
    },
    {
      "cell_type": "code",
      "execution_count": null,
      "metadata": {
        "collapsed": true,
        "jupyter": {
          "outputs_hidden": true
        },
        "id": "HR_ZqKsZajV7"
      },
      "outputs": [],
      "source": [
        "import matplotlib.pyplot as plt\n",
        "import numpy as np\n",
        "\n",
        "from mpl_toolkits.mplot3d.axes3d import Axes3D\n",
        "from matplotlib import cm # color map\n",
        "\n",
        "from sympy import symbols, diff\n",
        "from math import log\n",
        "\n",
        "from sklearn.linear_model import LinearRegression\n",
        "from sklearn.metrics import mean_squared_error\n",
        "\n",
        "%matplotlib inline"
      ]
    },
    {
      "cell_type": "markdown",
      "metadata": {
        "id": "u4WC45IBajV9"
      },
      "source": [
        "# Example 1 - A simple cost function\n",
        "\n",
        "## $$f(x) = x^2 + x + 1$$"
      ]
    },
    {
      "cell_type": "code",
      "execution_count": null,
      "metadata": {
        "collapsed": true,
        "jupyter": {
          "outputs_hidden": true
        },
        "id": "Tn4fTS61ajV-"
      },
      "outputs": [],
      "source": [
        "def f(x):\n",
        "    return x ** 2 + x + 1"
      ]
    },
    {
      "cell_type": "code",
      "execution_count": null,
      "metadata": {
        "collapsed": true,
        "jupyter": {
          "outputs_hidden": true
        },
        "id": "Q06sqj_HajV-"
      },
      "outputs": [],
      "source": [
        "# Make Data\n",
        "x_1 = np.linspace(start=-3, stop=3, num=500)"
      ]
    },
    {
      "cell_type": "code",
      "execution_count": null,
      "metadata": {
        "id": "X0Nas1x4ajV-",
        "outputId": "3bae9fa2-755f-4eda-86ac-f970edfcb590"
      },
      "outputs": [
        {
          "data": {
            "image/png": "[encoded data removed]",
            "text/plain": [
              "<matplotlib.figure.Figure at 0x111a3d390>"
            ]
          },
          "metadata": {},
          "output_type": "display_data"
        }
      ],
      "source": [
        "# Plot\n",
        "plt.xlim(-3, 3)\n",
        "plt.ylim(0, 8)\n",
        "plt.xlabel('X', fontsize=16)\n",
        "plt.ylabel('f(x)', fontsize=16)\n",
        "plt.plot(x_1, f(x_1))\n",
        "plt.show()"
      ]
    },
    {
      "cell_type": "markdown",
      "metadata": {
        "id": "XVw1B3yBajV_"
      },
      "source": [
        "## Slope & Derivatives\n",
        "\n",
        "Creating a function for the derivative of $f(x)$ called df(x)"
      ]
    },
    {
      "cell_type": "code",
      "execution_count": null,
      "metadata": {
        "collapsed": true,
        "jupyter": {
          "outputs_hidden": true
        },
        "id": "rThQBc-VajWA"
      },
      "outputs": [],
      "source": [
        "def df(x):\n",
        "    return 2 * x + 1"
      ]
    },
    {
      "cell_type": "code",
      "execution_count": null,
      "metadata": {
        "id": "sHU8OWpkajWB",
        "outputId": "5494a113-dbbc-439b-abf0-0c137149d652"
      },
      "outputs": [
        {
          "data": {
            "image/png": "[encoded data removed]",
            "text/plain": [
              "<matplotlib.figure.Figure at 0x111a20b00>"
            ]
          },
          "metadata": {},
          "output_type": "display_data"
        }
      ],
      "source": [
        "# Plot function and derivative side by side\n",
        "plt.figure(figsize=[15, 5])\n",
        "\n",
        "# 1 Chart: Cost function\n",
        "plt.subplot(1, 2, 1)\n",
        "\n",
        "plt.xlim(-3, 3)\n",
        "plt.ylim(0, 8)\n",
        "\n",
        "plt.title('Cost function', fontsize=17)\n",
        "plt.xlabel('X', fontsize=16)\n",
        "plt.ylabel('f(x)', fontsize=16)\n",
        "\n",
        "plt.plot(x_1, f(x_1), color='blue', linewidth=3)\n",
        "\n",
        "# 2 Chart: Derivative\n",
        "plt.subplot(1, 2, 2)\n",
        "\n",
        "plt.title('Slope of the cost function', fontsize=17)\n",
        "plt.xlabel('X', fontsize=16)\n",
        "plt.ylabel('df(x)', fontsize=16)\n",
        "plt.grid()\n",
        "plt.xlim(-2, 3)\n",
        "plt.ylim(-3, 6)\n",
        "\n",
        "plt.plot(x_1, df(x_1), color='skyblue', linewidth=5)\n",
        "\n",
        "plt.show()"
      ]
    },
    {
      "cell_type": "markdown",
      "metadata": {
        "id": "nfAUtAmTajWB"
      },
      "source": [
        "## Gradient Descent"
      ]
    },
    {
      "cell_type": "code",
      "execution_count": null,
      "metadata": {
        "id": "te6xi7U0ajWC"
      },
      "outputs": [],
      "source": [
        "##########################\n",
        "##########################\n",
        "\n",
        "## TASK-1 : Complete the lines of code wherever marked as [REQUIRED] in this cell.\n",
        "\n",
        "##########################\n",
        "##########################\n",
        "\n",
        "# Gradient Descent\n",
        "new_x = 3\n",
        "previous_x = 0\n",
        "step_multiplier = 0.1\n",
        "precision = 0.00001\n",
        "\n",
        "x_list = [new_x]\n",
        "slope_list = [df(new_x)]\n",
        "\n",
        "for n in range(500):\n",
        "    previous_x = new_x\n",
        "    gradient = ## [REQUIRED]\n",
        "    new_x = ## [REQUIRED]\n",
        "    \n",
        "    step_size = abs(new_x - previous_x)\n",
        "    # print(step_size)\n",
        "    \n",
        "    x_list.append(new_x)\n",
        "    slope_list.append(## [REQUIRED])\n",
        "    \n",
        "    if step_size < precision:\n",
        "        print('Loop ran this many times:', n)\n",
        "        break\n",
        "    \n",
        "print('Local minimum occurs at:', new_x)\n",
        "print('Slope or df(x) value at this point is:', df(new_x))\n",
        "print('f(x) value or cost at this point is:', f(new_x))"
      ]
    },
    {
      "cell_type": "code",
      "execution_count": null,
      "metadata": {
        "id": "3uQFGRESajWD"
      },
      "outputs": [],
      "source": [
        "# Superimpose the gradient descent calculations on plot\n",
        "\n",
        "plt.figure(figsize=[20, 5])\n",
        "\n",
        "# 1 Chart: Cost function\n",
        "plt.subplot(1, 3, 1)\n",
        "\n",
        "plt.xlim(-3, 3)\n",
        "plt.ylim(0, 8)\n",
        "\n",
        "plt.title('Cost function', fontsize=17)\n",
        "plt.xlabel('X', fontsize=16)\n",
        "plt.ylabel('f(x)', fontsize=16)\n",
        "\n",
        "plt.plot(x_1, f(x_1), color='blue', linewidth=3, alpha=0.8)\n",
        "\n",
        "values = np.array(x_list)\n",
        "plt.scatter(x_list, f(values), color='red', s=100, alpha=0.6)\n",
        "\n",
        "# 2 Chart: Derivative\n",
        "plt.subplot(1, 3, 2)\n",
        "\n",
        "plt.title('Slope of the cost function', fontsize=17)\n",
        "plt.xlabel('X', fontsize=16)\n",
        "plt.ylabel('df(x)', fontsize=16)\n",
        "plt.grid()\n",
        "plt.xlim(-2, 3)\n",
        "plt.ylim(-3, 6)\n",
        "\n",
        "plt.plot(x_1, df(x_1), color='skyblue', linewidth=5, alpha=0.6)\n",
        "plt.scatter(x_list, slope_list, color='red', s=100, alpha=0.5)\n",
        "\n",
        "# 3 Chart: Derivative (Close Up)\n",
        "plt.subplot(1, 3, 3)\n",
        "\n",
        "plt.title('Gradient Descent (close up)', fontsize=17)\n",
        "plt.xlabel('X', fontsize=16)\n",
        "plt.grid()\n",
        "plt.xlim(-0.55, -0.2)\n",
        "plt.ylim(-0.3, 0.8)\n",
        "\n",
        "plt.plot(x_1, df(x_1), color='skyblue', linewidth=6, alpha=0.8)\n",
        "plt.scatter(x_list, slope_list, color='red', s=300, alpha=0.6)\n",
        "\n",
        "\n",
        "plt.show()"
      ]
    },
    {
      "cell_type": "markdown",
      "metadata": {
        "id": "I8SA-6tNajWE"
      },
      "source": [
        "# Example 2 - Multiple Minima vs Initial Guess & Advanced Functions\n",
        "\n",
        "## $$g(x) = x^4 - 4x^2 + 5$$"
      ]
    },
    {
      "cell_type": "code",
      "execution_count": null,
      "metadata": {
        "collapsed": true,
        "jupyter": {
          "outputs_hidden": true
        },
        "id": "ZgavFhIYajWE"
      },
      "outputs": [],
      "source": [
        "##########################\n",
        "##########################\n",
        "\n",
        "## TASK-2 : Complete the lines of code wherever marked as [REQUIRED] in this cell.\n",
        "\n",
        "##########################\n",
        "##########################\n",
        "\n",
        "# Make some data\n",
        "x_2 = np.linspace(-2, 2, 1000)\n",
        "\n",
        "def g(x):\n",
        "    return ## [REQUIRED]\n",
        "\n",
        "def dg(x):\n",
        "    return ## [REQUIRED]"
      ]
    },
    {
      "cell_type": "code",
      "execution_count": null,
      "metadata": {
        "id": "f3mYzGdgajWE"
      },
      "outputs": [],
      "source": [
        "## TASK-3 : Plot function and derivative side by side like has been done earlier"
      ]
    },
    {
      "cell_type": "markdown",
      "metadata": {
        "id": "h8MhmKKbajWF"
      },
      "source": [
        "## Gradient Descent"
      ]
    },
    {
      "cell_type": "code",
      "execution_count": null,
      "metadata": {
        "collapsed": true,
        "jupyter": {
          "outputs_hidden": true
        },
        "id": "4PwmeaFxajWF"
      },
      "outputs": [],
      "source": [
        "def gradient_descent(derivative_func, initial_guess, multiplier=0.02, precision=0.001, \n",
        "                    max_iter=300):\n",
        "    new_x = initial_guess\n",
        "    x_list = [new_x]\n",
        "    slope_list = [derivative_func(new_x)]\n",
        "\n",
        "    for n in range(max_iter):\n",
        "        previous_x = new_x\n",
        "        gradient = derivative_func(previous_x)\n",
        "        new_x = previous_x - multiplier * gradient\n",
        "\n",
        "        step_size = abs(new_x - previous_x)\n",
        "        x_list.append(new_x)\n",
        "        slope_list.append(derivative_func(new_x))\n",
        "\n",
        "        if step_size < precision:\n",
        "            break\n",
        "    return new_x, x_list, slope_list"
      ]
    },
    {
      "cell_type": "code",
      "execution_count": null,
      "metadata": {
        "id": "QkTnlSfjajWF"
      },
      "outputs": [],
      "source": [
        "local_min, list_x, deriv_list = gradient_descent(dg, 0.5, 0.02, 0.001)\n",
        "print('Local min occurs at:', local_min)\n",
        "print('Number of steps:', len(list_x))"
      ]
    },
    {
      "cell_type": "code",
      "execution_count": null,
      "metadata": {
        "id": "sVNFUXVQajWF"
      },
      "outputs": [],
      "source": [
        "local_min, list_x, deriv_list = gradient_descent(derivative_func=dg, initial_guess= -0.5, \n",
        "                                                 multiplier=0.01, precision=0.0001)\n",
        "print('Local min occurs at:', local_min)\n",
        "print('Number of steps:', len(list_x))"
      ]
    },
    {
      "cell_type": "code",
      "execution_count": null,
      "metadata": {
        "id": "Gh8X34SKajWG"
      },
      "outputs": [],
      "source": [
        "local_min, list_x, deriv_list = gradient_descent(derivative_func=dg, initial_guess= -0.1)\n",
        "print('Local min occurs at:', local_min)\n",
        "print('Number of steps:', len(list_x))"
      ]
    },
    {
      "cell_type": "code",
      "execution_count": null,
      "metadata": {
        "id": "9XSGY7FQajWG"
      },
      "outputs": [],
      "source": [
        "# Calling gradient descent function\n",
        "local_min, list_x, deriv_list = gradient_descent(derivative_func=dg, initial_guess= 0)\n",
        "\n",
        "# Plot function and derivative and scatter plot side by side\n",
        "\n",
        "plt.figure(figsize=[15, 5])\n",
        "\n",
        "# 1 Chart: Cost function\n",
        "plt.subplot(1, 2, 1)\n",
        "\n",
        "plt.xlim(-2, 2)\n",
        "plt.ylim(0.5, 5.5)\n",
        "\n",
        "plt.title('Cost function', fontsize=17)\n",
        "plt.xlabel('X', fontsize=16)\n",
        "plt.ylabel('g(x)', fontsize=16)\n",
        "\n",
        "plt.plot(x_2, g(x_2), color='blue', linewidth=3, alpha=0.8)\n",
        "plt.scatter(list_x, g(np.array(list_x)), color='red', s=100, alpha=0.6)\n",
        "\n",
        "# 2 Chart: Derivative\n",
        "plt.subplot(1, 2, 2)\n",
        "\n",
        "plt.title('Slope of the cost function', fontsize=17)\n",
        "plt.xlabel('X', fontsize=16)\n",
        "plt.ylabel('dg(x)', fontsize=16)\n",
        "plt.grid()\n",
        "plt.xlim(-2, 2)\n",
        "plt.ylim(-6, 8)\n",
        "\n",
        "plt.plot(x_2, dg(x_2), color='skyblue', linewidth=5, alpha=0.6)\n",
        "plt.scatter(list_x, deriv_list, color='red', s=100, alpha=0.5)\n",
        "\n",
        "plt.show()"
      ]
    },
    {
      "cell_type": "markdown",
      "metadata": {
        "id": "neRePpk0ajWG"
      },
      "source": [
        "# Example 3 - Divergence and Overflow\n",
        "\n",
        "## $$h(x) = x^5 - 2x^4 + 2$$"
      ]
    },
    {
      "cell_type": "code",
      "execution_count": null,
      "metadata": {
        "collapsed": true,
        "jupyter": {
          "outputs_hidden": true
        },
        "id": "hi1KQGkvajWG"
      },
      "outputs": [],
      "source": [
        "## TASK-4 : Code the same things as they were done for the first two examples"
      ]
    },
    {
      "cell_type": "markdown",
      "metadata": {
        "id": "N5U0O6rnajWH"
      },
      "source": [
        "# The Learning Rate"
      ]
    },
    {
      "cell_type": "code",
      "execution_count": null,
      "metadata": {
        "id": "bTACZznSajWI"
      },
      "outputs": [],
      "source": [
        "# Calling gradient descent function\n",
        "local_min, list_x, deriv_list = gradient_descent(derivative_func=dg, initial_guess= 1.9,\n",
        "                                                multiplier=0.02, max_iter=500)\n",
        "\n",
        "# Plot function and derivative and scatter plot side by side\n",
        "\n",
        "plt.figure(figsize=[15, 5])\n",
        "\n",
        "# 1 Chart: Cost function\n",
        "plt.subplot(1, 2, 1)\n",
        "\n",
        "plt.xlim(-2, 2)\n",
        "plt.ylim(0.5, 5.5)\n",
        "\n",
        "plt.title('Cost function', fontsize=17)\n",
        "plt.xlabel('X', fontsize=16)\n",
        "plt.ylabel('g(x)', fontsize=16)\n",
        "\n",
        "plt.plot(x_2, g(x_2), color='blue', linewidth=3, alpha=0.8)\n",
        "plt.scatter(list_x, g(np.array(list_x)), color='red', s=100, alpha=0.6)\n",
        "\n",
        "# 2 Chart: Derivative\n",
        "plt.subplot(1, 2, 2)\n",
        "\n",
        "plt.title('Slope of the cost function', fontsize=17)\n",
        "plt.xlabel('X', fontsize=16)\n",
        "plt.ylabel('dg(x)', fontsize=16)\n",
        "plt.grid()\n",
        "plt.xlim(-2, 2)\n",
        "plt.ylim(-6, 8)\n",
        "\n",
        "plt.plot(x_2, dg(x_2), color='skyblue', linewidth=5, alpha=0.6)\n",
        "plt.scatter(list_x, deriv_list, color='red', s=100, alpha=0.5)\n",
        "\n",
        "plt.show()\n",
        "\n",
        "print('Number of steps is: ', len(list_x))"
      ]
    },
    {
      "cell_type": "code",
      "execution_count": null,
      "metadata": {
        "id": "LoQFmI-CajWI"
      },
      "outputs": [],
      "source": [
        "## TASK-5 : Run gradient descent 3 times\n",
        "## TASK-6 : Plot two more learning rates: mid_gamma (0.001) and high_gamma (0.002)\n",
        "n = 100\n",
        "low_gamma = gradient_descent(derivative_func=dg, initial_guess= 3,\n",
        "                                                multiplier=0.0005, precision=0.0001, max_iter=n)\n",
        "\n",
        "\n",
        "mid_gamma = ## [REQUIRED]\n",
        "high_gamma = ## [REQUIRED]\n",
        "                          \n",
        "# Experiment\n",
        "insane_gamma = gradient_descent(derivative_func=dg, initial_guess= 1.9,\n",
        "                                                multiplier=0.25, precision=0.0001, max_iter=n)"
      ]
    },
    {
      "cell_type": "code",
      "source": [
        "## TASK-7 : Plot reduction in cost for each iteration"
      ],
      "metadata": {
        "id": "Vmv_0RQddmCO"
      },
      "execution_count": null,
      "outputs": []
    },
    {
      "cell_type": "markdown",
      "metadata": {
        "id": "OGy302BVajWI"
      },
      "source": [
        "# Example 4 - Data Viz with 3D Charts\n",
        "\n",
        "## Minimise $$f(x, y) = \\frac{1}{3^{-x^2 - y^2} + 1}$$\n",
        "\n",
        "Minimise $$f(x, y) = \\frac{1}{r + 1}$$ where $r$ is $3^{-x^2 - y^2}$"
      ]
    },
    {
      "cell_type": "code",
      "execution_count": null,
      "metadata": {
        "collapsed": true,
        "jupyter": {
          "outputs_hidden": true
        },
        "id": "cV5acLjaajWI"
      },
      "outputs": [],
      "source": [
        "## TASK-8 : Code the same things as they were done for the first two examples"
      ]
    },
    {
      "cell_type": "code",
      "execution_count": null,
      "metadata": {
        "id": "oUSsuyp7ajWI"
      },
      "outputs": [],
      "source": [
        "# Make our x and y data\n",
        "x_4 = np.linspace(start=-2, stop=2, num=200)\n",
        "y_4 = np.linspace(start=-2, stop=2, num=200)\n",
        "\n",
        "print('Shape of X array', x_4.shape)\n",
        "\n",
        "x_4, y_4 = np.meshgrid(x_4, y_4)\n",
        "print('Array after meshgrid: ', x_4.shape)"
      ]
    },
    {
      "cell_type": "code",
      "execution_count": null,
      "metadata": {
        "id": "cYujmRcjajWJ"
      },
      "outputs": [],
      "source": [
        "# Generating 3D Plot\n",
        "fig = plt.figure(figsize=[16, 12])\n",
        "ax = fig.gca(projection='3d')\n",
        "\n",
        "ax.set_xlabel('X', fontsize=20)\n",
        "ax.set_ylabel('Y', fontsize=20)\n",
        "ax.set_zlabel('f(x, y) - Cost', fontsize=20)\n",
        "\n",
        "ax.plot_surface(x_4, y_4, f(x_4, y_4), cmap=cm.coolwarm, alpha=0.4)\n",
        "\n",
        "plt.show()"
      ]
    },
    {
      "cell_type": "markdown",
      "metadata": {
        "id": "KQbIOuPWajWJ"
      },
      "source": [
        "##########################\n",
        "##########################\n",
        "\n",
        "## TASK-9 : Complete the lines of text wherever marked as [REQUIRED] in this cell.\n",
        "\n",
        "##########################\n",
        "##########################\n",
        "\n",
        "Partial Derivatives & Symbolic Computation\n",
        "\n",
        "## $$\\frac{\\partial f}{\\partial x} = ## [REQUIRED]\n",
        "\n",
        "## $$\\frac{\\partial f}{\\partial y} = ## [REQUIRED]"
      ]
    },
    {
      "cell_type": "code",
      "execution_count": null,
      "metadata": {
        "id": "9I0yUajgajWJ"
      },
      "outputs": [],
      "source": [
        "a, b = symbols('x, y')\n",
        "print('Our cost function f(x, y) is: ', f(a, b))\n",
        "print('Partial derivative wrt x is: ', diff(f(a, b), b))\n",
        "print('Value of f(x,y) at x=1.8 y=1.0 is: ', \n",
        "      f(a, b).evalf(subs={a:1.8, b:1.0})) # Python Dictionary\n",
        "print('Value of partial derivative wrt x: ', diff(f(a, b), a).evalf(subs={a:1.8, b:1.0}))"
      ]
    }
  ],
  "metadata": {
    "kernelspec": {
      "display_name": "Python 3",
      "language": "python",
      "name": "python3"
    },
    "language_info": {
      "codemirror_mode": {
        "name": "ipython",
        "version": 3
      },
      "file_extension": ".py",
      "mimetype": "text/x-python",
      "name": "python",
      "nbconvert_exporter": "python",
      "pygments_lexer": "ipython3",
      "version": "3.9.9"
    },
    "colab": {
      "name": "FMML Jan Batch Lab 10 Project.ipynb",
      "provenance": [],
      "collapsed_sections": [
        "k5aHbPUkajWP"
      ],
      "include_colab_link": true
    }
  },
  "nbformat": 4,
  "nbformat_minor": 0
}