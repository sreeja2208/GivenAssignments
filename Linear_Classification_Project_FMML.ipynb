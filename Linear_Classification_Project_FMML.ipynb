{
  "nbformat": 4,
  "nbformat_minor": 0,
  "metadata": {
    "colab": {
      "name": "Linear Classification Project_FMML.ipynb",
      "provenance": [],
      "include_colab_link": true
    },
    "kernelspec": {
      "name": "python3",
      "display_name": "Python 3"
    },
    "language_info": {
      "name": "python"
    }
  },
  "cells": [
    {
      "cell_type": "markdown",
      "metadata": {
        "id": "view-in-github",
        "colab_type": "text"
      },
      "source": [
        "<a href=\"https://colab.research.google.com/github/sreeja2208/GivenAssignments/blob/main/Linear_Classification_Project_FMML.ipynb\" target=\"_parent\"><img src=\"https://colab.research.google.com/assets/colab-badge.svg\" alt=\"Open In Colab\"/></a>"
      ]
    },
    {
      "cell_type": "markdown",
      "source": [
        "# Lab-6 Project\n",
        "## Linear Classification \n",
        "### Project Coordinatior: Shantanu Agrawal\n",
        "\n",
        "<br><br>\n",
        "**NOTES:**\n",
        "- In this project, we will try to implement the perceptron linear classification involving the perceptron update and classification methods.\n",
        "- Implementation needs be done for code cells starting **Task #x**.\n",
        "- Try to write modular code such that it can be reused and will minimize duplication."
      ],
      "metadata": {
        "id": "Uu1BhE0oDr_w"
      }
    },
    {
      "cell_type": "code",
      "execution_count": null,
      "metadata": {
        "id": "1B3V2-8nDdwi"
      },
      "outputs": [],
      "source": [
        "# importing necessary packages\n",
        "import numpy as np\n",
        "import pandas as pd\n",
        "import matplotlib.pyplot as plt\n",
        "\n",
        "from sklearn import datasets"
      ]
    },
    {
      "cell_type": "markdown",
      "source": [
        "Creating the dataset for this exercise"
      ],
      "metadata": {
        "id": "rjd5yYgWK_PI"
      }
    },
    {
      "cell_type": "code",
      "source": [
        "X, y, p = datasets.make_blobs(n_samples=150,n_features=2,\n",
        "                           centers=2,cluster_std=1.05, return_centers=True)\n",
        "print(p)"
      ],
      "metadata": {
        "colab": {
          "base_uri": "https://localhost:8080/"
        },
        "id": "SjpM5L9CDqFA",
        "outputId": "5eae1328-e7f2-4dd1-c6b2-836bdc1abda3"
      },
      "execution_count": null,
      "outputs": [
        {
          "output_type": "stream",
          "name": "stdout",
          "text": [
            "[[5.96969068 5.59879329]\n",
            " [4.16434282 8.39488022]]\n"
          ]
        }
      ]
    },
    {
      "cell_type": "markdown",
      "source": [
        "**NOTE:** Above dataset is not in augmented form, bias term have not been added initially to the dataset. Hence, you have to preprocess the data or make the necessary changes in the algorithm."
      ],
      "metadata": {
        "id": "mQV0YfFpPMzK"
      }
    },
    {
      "cell_type": "code",
      "source": [
        "#Plotting\n",
        "fig = plt.figure(figsize=(10,8))\n",
        "plt.plot(X[:, 0][y == 0], X[:, 1][y == 0], 'r^') # Negative samples\n",
        "plt.plot(X[:, 0][y == 1], X[:, 1][y == 1], 'bs') # Positive samples\n",
        "plt.xlabel(\"feature 1\")\n",
        "plt.ylabel(\"feature 2\")\n",
        "plt.title('Random Classification Data with 2 classes')"
      ],
      "metadata": {
        "colab": {
          "base_uri": "https://localhost:8080/",
          "height": 531
        },
        "id": "4hergFEyLYTT",
        "outputId": "adfd2f4a-7daf-45ca-98c0-b0e77ef0ae09"
      },
      "execution_count": null,
      "outputs": [
        {
          "output_type": "execute_result",
          "data": {
            "text/plain": [
              "Text(0.5, 1.0, 'Random Classification Data with 2 classes')"
            ]
          },
          "metadata": {},
          "execution_count": 12
        },
        {
          "output_type": "display_data",
          "data": {
            "text/plain": [
              "<Figure size 720x576 with 1 Axes>"
            ],
            "image/png": "[encoded data removed]"
          },
          "metadata": {
            "needs_background": "light"
          }
        }
      ]
    },
    {
      "cell_type": "markdown",
      "source": [
        "Try to revise the perceptron algorithm taught to you. Look at the lab notebook to revise the code shown.\n",
        "\n",
        "Let's start with sign function..!!<br>\n",
        "![step function](https://miro.medium.com/max/692/1*sSxVjxnTEvGQTSHASOD68Q.png)"
      ],
      "metadata": {
        "id": "9qKw2AM1g0GC"
      }
    },
    {
      "cell_type": "code",
      "source": [
        "## TASK 1: Write code for sign function (also called as step function)\n",
        "def sign_func(z):\n",
        "  pass"
      ],
      "metadata": {
        "id": "i6Vs6lCPLvyN"
      },
      "execution_count": null,
      "outputs": []
    },
    {
      "cell_type": "markdown",
      "source": [
        "Now, let's complete the perceptron update function.\n",
        "\n",
        "Update rule is shown below for revision:<br>\n",
        "![Perceptron update rule](https://miro.medium.com/max/605/1*E-GGbrUh1IQQGk9kmbG4OA.png)"
      ],
      "metadata": {
        "id": "CUBPoVjbjQxj"
      }
    },
    {
      "cell_type": "code",
      "source": [
        "## Task : Try to write code which can handle all the possible values of d (or number of features in dataset)\n",
        "\n",
        "def perceptron(X, y, lr, epochs):\n",
        "    '''\n",
        "    INPUT:\n",
        "    X --> Inputs.\n",
        "    y --> labels/target.\n",
        "    lr --> learning rate.\n",
        "    epochs --> Number of iterations.\n",
        "    \n",
        "    OUTPUT:\n",
        "    theta --> coefficeints vector\n",
        "    '''\n",
        "    \n",
        "    # m-> number of training examples\n",
        "    # n-> number of features \n",
        "    m, n = X.shape\n",
        "    \n",
        "    # TASK 2 : Initilaize theta vector which would include the bias value\n",
        "    # Correct the value of d \n",
        "    d = 1\n",
        "    theta = np.zeros((d,1))\n",
        "    \n",
        "    # TASK 3: Complete the training part\n",
        "    # Make sure to balance the dataset as it doesn't have bias term\n",
        "    for epoch in range(epochs):\n",
        "      pass\n",
        "        \n",
        "    return theta"
      ],
      "metadata": {
        "id": "n3nr8Eznj83t"
      },
      "execution_count": null,
      "outputs": []
    },
    {
      "cell_type": "code",
      "source": [
        "# Task : Writing plot decision boundary to actually show the final result\n",
        "\n",
        "def plot_decision_boundary(X, theta):\n",
        "    '''\n",
        "    INPUT:\n",
        "    X --> Inputs\n",
        "    theta --> parameters\n",
        "    \n",
        "    OUTPUT:\n",
        "    Return nothing.\n",
        "    But should plot a figure showing datapoints and the hyperplane of decision boundary\n",
        "    '''\n",
        "\n",
        "    # Steps to find some kind of endpoints of the decision boundary to plot them\n",
        "    # The Line is y=mx+c\n",
        "    # So, Equate mx+c = theta0.X0 + theta1.X1 + theta2.X2\n",
        "    # Solving we find m and c\n",
        "    # TASK 4: Find m and c as shown above. Correct the value of m and c.\n",
        "    x1 = [min(X[:,0]), max(X[:,0])]\n",
        "    m = 1\n",
        "    c = 0\n",
        "    x2 = m*x1 + c\n",
        "    \n",
        "    # Plotting\n",
        "    fig = plt.figure(figsize=(10,8))\n",
        "    plt.plot(X[:, 0][y==0], X[:, 1][y==0], \"r^\")\n",
        "    plt.plot(X[:, 0][y==1], X[:, 1][y==1], \"bs\")\n",
        "    plt.xlabel(\"feature 1\")\n",
        "    plt.ylabel(\"feature 2\")\n",
        "    plt.title(\"Perceptron Algorithm\")\n",
        "    # Plotting the decision boundary as well\n",
        "    plt.plot(x1, x2, 'y-')"
      ],
      "metadata": {
        "id": "JVgadm1hnkAz"
      },
      "execution_count": null,
      "outputs": []
    },
    {
      "cell_type": "code",
      "source": [
        "# Final output\n",
        "theta = perceptron(X, y, 0.5, 100)\n",
        "plot_decision_boundary(X, theta)"
      ],
      "metadata": {
        "id": "xKhVKwZImHEe"
      },
      "execution_count": null,
      "outputs": []
    },
    {
      "cell_type": "markdown",
      "source": [
        "#### Things to check upon:\n",
        "- Here, we have dealt with datasets which has only 2 features. Try to run your code on that case also. (You can plot 3 dimesnional dataset as well and corresponding decision boundary, look for that as well). Since your function should work for any numbere of features. So, running it directly should not be a problem.\n",
        "- There are cases when dataset might not be linearly seperable because of the random dataset generation. You can fix your datstet using *random_state* parameter to be used in *datasets.amke_blob()* function."
      ],
      "metadata": {
        "id": "F8WCnyuQMu7s"
      }
    },
    {
      "cell_type": "code",
      "source": [
        ""
      ],
      "metadata": {
        "id": "08is3Gcfl-AA"
      },
      "execution_count": null,
      "outputs": []
    }
  ]
}